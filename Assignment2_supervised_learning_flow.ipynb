{
 "cells": [
  {
   "cell_type": "markdown",
   "id": "ec202ada",
   "metadata": {},
   "source": [
    "# Assignment2 - Supervised Learning flow"
   ]
  },
  {
   "cell_type": "markdown",
   "id": "b06a2810",
   "metadata": {},
   "source": [
    "# Part 1 - Student details:\n",
    "* Please write the First Name and last 4 digits of the i.d. for each student. For example:\n",
    "<pre>Israel 9812</pre>"
   ]
  },
  {
   "cell_type": "code",
   "execution_count": 67,
   "id": "ca16486b",
   "metadata": {},
   "outputs": [],
   "source": [
    "# student 1: Nave 1452\n",
    "# student 2: Ofir 9415"
   ]
  },
  {
   "cell_type": "markdown",
   "id": "df67c2ee-87c8-499c-a04f-1853c332f51d",
   "metadata": {},
   "source": [
    "## Part 2 - Initial Preparations \n",
    "You could add as many code cells as needed"
   ]
  },
  {
   "cell_type": "code",
   "execution_count": 68,
   "id": "b29b3454-b568-4614-8017-f15b3c59fc55",
   "metadata": {},
   "outputs": [],
   "source": [
    "import pandas as pd\n",
    "from sklearn.metrics import accuracy_score, classification_report\n",
    "from sklearn.neighbors import KNeighborsClassifier\n",
    "from sklearn.preprocessing import StandardScaler\n",
    "from sklearn.model_selection import GridSearchCV, cross_val_score\n",
    "from sklearn.tree import DecisionTreeClassifier\n",
    "import matplotlib.pyplot as plt\n",
    "import seaborn as sns"
   ]
  },
  {
   "cell_type": "code",
   "execution_count": 69,
   "id": "4b47fe56-d611-4b28-be92-673db4d56400",
   "metadata": {},
   "outputs": [
    {
     "name": "stdout",
     "output_type": "stream",
     "text": [
      "5 rows of train set:\n",
      "\n",
      "   Pclass  Sex   Age  SibSp  Parch     Fare  Embarked  Survived\n",
      "0       1    0  54.0      1      0  78.2667         1         1\n",
      "1       2    0  45.0      0      0  13.5000         0         1\n",
      "2       3    1  20.0      0      0   9.5000         0         0\n",
      "3       3    1  36.0      0      0   7.8958         0         0\n",
      "4       3    1  22.0      0      0   8.0500         0         0\n",
      "\n",
      "5 rows of test set:\n",
      "\n",
      "   Pclass  Sex        Age  SibSp  Parch     Fare  Embarked  Survived\n",
      "0       3    1  35.000000      0      0   7.0500         0         0\n",
      "1       3    1  30.000000      0      0   7.2500         0         0\n",
      "2       3    1  29.699118      0      0  14.5000         0         0\n",
      "3       3    0  21.000000      0      0   7.7500         2         0\n",
      "4       3    1  32.000000      0      0  56.4958         0         1\n"
     ]
    }
   ],
   "source": [
    "#קריאת הנתונים של הTEST והTRAIN\n",
    "train_df=pd.read_csv('titanic_train.csv')\n",
    "test_df=pd.read_csv('titanic_test.csv')\n",
    "#הדפסת 5 שורות ראשונות של כל אחד מהם\n",
    "print(f'5 rows of train set:\\n\\n{train_df.head()}\\n\\n5 rows of test set:\\n\\n{test_df.head()}')\n",
    "\n"
   ]
  },
  {
   "cell_type": "code",
   "execution_count": 70,
   "id": "b2f095d2-eafe-4583-ae6f-e0ebb7d0075d",
   "metadata": {},
   "outputs": [],
   "source": [
    "#ניקוי נתונים\n",
    "# הסרת כפילויות\n",
    "train_df = train_df.drop_duplicates()\n",
    "test_df = test_df.drop_duplicates()\n",
    "\n",
    "# טיפול בערכים חריגים (לדוגמה, גיל מחוץ לטווח הגיוני)\n",
    "train_df = train_df[(train_df['Age'] >= 0) & (train_df['Age'] <= 120)]\n",
    "test_df = test_df[(test_df['Age'] >= 0) & (test_df['Age'] <= 120)]\n",
    "\n",
    "# טיפול בערכים חסרים (לדוגמה, מילוי ערכים חסרים בגיל עם הממוצע)\n",
    "train_df['Age'].fillna(train_df['Age'].mean(), inplace=True)\n",
    "test_df['Age'].fillna(test_df['Age'].mean(), inplace=True)\n"
   ]
  },
  {
   "cell_type": "code",
   "execution_count": 71,
   "id": "177db5e2-b229-49dc-9547-193712578109",
   "metadata": {},
   "outputs": [],
   "source": [
    "#יצירת פיצ'רים חדשים\n",
    "# הוספת פיצ'ר של גודל המשפחה (FamilySize)\n",
    "train_df['FamilySize'] = train_df['SibSp'] + train_df['Parch'] + 1\n",
    "test_df['FamilySize'] = test_df['SibSp'] + test_df['Parch'] + 1\n",
    "# עדכון הפיצ'רים לתהליך האימון\n",
    "Features = ['Pclass', 'Sex', 'Age', 'SibSp', 'Parch', 'Fare', 'Embarked', 'FamilySize']"
   ]
  },
  {
   "cell_type": "code",
   "execution_count": 72,
   "id": "53e27610-b640-4db0-80c9-789b5f5fae58",
   "metadata": {},
   "outputs": [
    {
     "name": "stdout",
     "output_type": "stream",
     "text": [
      "\n",
      "Train set statistics:\n",
      " 1- describe:\n",
      "            Pclass         Sex         Age       SibSp       Parch        Fare  \\\n",
      "count  632.000000  632.000000  632.000000  632.000000  632.000000  632.000000   \n",
      "mean     2.243671    0.618671   29.620597    0.552215    0.422468   34.860904   \n",
      "std      0.859804    0.486098   13.778271    1.015160    0.835239   52.161783   \n",
      "min      1.000000    0.000000    0.670000    0.000000    0.000000    0.000000   \n",
      "25%      1.000000    0.000000   21.750000    0.000000    0.000000    8.050000   \n",
      "50%      3.000000    1.000000   29.699118    0.000000    0.000000   16.100000   \n",
      "75%      3.000000    1.000000   36.000000    1.000000    1.000000   35.500000   \n",
      "max      3.000000    1.000000   80.000000    8.000000    6.000000  512.329200   \n",
      "\n",
      "         Embarked    Survived  FamilySize  \n",
      "count  632.000000  632.000000  632.000000  \n",
      "mean     0.360759    0.419304    1.974684  \n",
      "std      0.631637    0.493836    1.546734  \n",
      "min      0.000000    0.000000    1.000000  \n",
      "25%      0.000000    0.000000    1.000000  \n",
      "50%      0.000000    0.000000    1.000000  \n",
      "75%      1.000000    1.000000    2.000000  \n",
      "max      3.000000    1.000000   11.000000  \n",
      " 2- corr:\n",
      "              Pclass       Sex       Age     SibSp     Parch      Fare  \\\n",
      "Pclass      1.000000  0.108919 -0.322891  0.108865  0.070485 -0.542995   \n",
      "Sex         0.108919  1.000000  0.098161 -0.076807 -0.238826 -0.172842   \n",
      "Age        -0.322891  0.098161  1.000000 -0.300990 -0.209686  0.070541   \n",
      "SibSp       0.108865 -0.076807 -0.300990  1.000000  0.391679  0.113222   \n",
      "Parch       0.070485 -0.238826 -0.209686  0.391679  1.000000  0.128797   \n",
      "Fare       -0.542995 -0.172842  0.070541  0.113222  0.128797  1.000000   \n",
      "Embarked    0.015883 -0.103525  0.036453 -0.036839 -0.070060  0.097733   \n",
      "Survived   -0.323125 -0.514598 -0.081400 -0.045322  0.057809  0.255227   \n",
      "FamilySize  0.109513 -0.179377 -0.310778  0.867833  0.797071  0.143861   \n",
      "\n",
      "            Embarked  Survived  FamilySize  \n",
      "Pclass      0.015883 -0.323125    0.109513  \n",
      "Sex        -0.103525 -0.514598   -0.179377  \n",
      "Age         0.036453 -0.081400   -0.310778  \n",
      "SibSp      -0.036839 -0.045322    0.867833  \n",
      "Parch      -0.070060  0.057809    0.797071  \n",
      "Fare        0.097733  0.255227    0.143861  \n",
      "Embarked    1.000000  0.073155   -0.062011  \n",
      "Survived    0.073155  1.000000    0.001471  \n",
      "FamilySize -0.062011  0.001471    1.000000  \n",
      "\n",
      "Test set statistics:\n",
      " 1- describe:\n",
      "            Pclass         Sex         Age       SibSp       Parch        Fare  \\\n",
      "count  167.000000  167.000000  167.000000  167.000000  167.000000  167.000000   \n",
      "mean     2.317365    0.664671   30.399394    0.485030    0.383234   32.794136   \n",
      "std      0.822059    0.473525   12.679853    1.181465    0.834039   50.553005   \n",
      "min      1.000000    0.000000    0.420000    0.000000    0.000000    0.000000   \n",
      "25%      2.000000    0.000000   23.250000    0.000000    0.000000    7.895800   \n",
      "50%      3.000000    1.000000   29.699118    0.000000    0.000000   13.000000   \n",
      "75%      3.000000    1.000000   36.000000    1.000000    0.000000   30.035400   \n",
      "max      3.000000    1.000000   71.000000    8.000000    5.000000  263.000000   \n",
      "\n",
      "         Embarked    Survived  FamilySize  \n",
      "count  167.000000  167.000000  167.000000  \n",
      "mean     0.341317    0.359281    1.868263  \n",
      "std      0.628370    0.481233    1.691762  \n",
      "min      0.000000    0.000000    1.000000  \n",
      "25%      0.000000    0.000000    1.000000  \n",
      "50%      0.000000    0.000000    1.000000  \n",
      "75%      1.000000    1.000000    2.000000  \n",
      "max      3.000000    1.000000   11.000000  \n",
      " 2- corr:\n",
      "              Pclass       Sex       Age     SibSp     Parch      Fare  \\\n",
      "Pclass      1.000000  0.135758 -0.395452  0.045238 -0.090598 -0.571411   \n",
      "Sex         0.135758  1.000000  0.060672 -0.192080 -0.237019 -0.158829   \n",
      "Age        -0.395452  0.060672  1.000000 -0.115397 -0.081825  0.179722   \n",
      "SibSp       0.045238 -0.192080 -0.115397  1.000000  0.391003  0.229382   \n",
      "Parch      -0.090598 -0.237019 -0.081825  0.391003  1.000000  0.461924   \n",
      "Fare       -0.571411 -0.158829  0.179722  0.229382  0.461924  1.000000   \n",
      "Embarked   -0.036034 -0.139417 -0.008210 -0.118849 -0.113155  0.054068   \n",
      "Survived   -0.381330 -0.499115 -0.053655 -0.054055  0.105153  0.219895   \n",
      "FamilySize -0.013073 -0.250992 -0.120928  0.891128  0.766062  0.387921   \n",
      "\n",
      "            Embarked  Survived  FamilySize  \n",
      "Pclass     -0.036034 -0.381330   -0.013073  \n",
      "Sex        -0.139417 -0.499115   -0.250992  \n",
      "Age        -0.008210 -0.053655   -0.120928  \n",
      "SibSp      -0.118849 -0.054055    0.891128  \n",
      "Parch      -0.113155  0.105153    0.766062  \n",
      "Fare        0.054068  0.219895    0.387921  \n",
      "Embarked    1.000000  0.189671   -0.138785  \n",
      "Survived    0.189671  1.000000    0.014090  \n",
      "FamilySize -0.138785  0.014090    1.000000  \n"
     ]
    }
   ],
   "source": [
    "#EDA\n",
    "#הדפסה של סטטיסטיקות של הTRAIN \n",
    "train_stats = train_df.describe(include='all')\n",
    "train_stats_2 = train_df.corr()\n",
    "print(f'\\nTrain set statistics:\\n 1- describe:\\n {train_stats}\\n 2- corr:\\n{train_stats_2}')\n",
    "\n",
    "#הדפסה של סטטיסטיקות של הTEST\n",
    "test_stats = test_df.describe(include='all')\n",
    "test_stats_2 = test_df.corr()\n",
    "print(f'\\nTest set statistics:\\n 1- describe:\\n {test_stats}\\n 2- corr:\\n{test_stats_2}')\n"
   ]
  },
  {
   "cell_type": "code",
   "execution_count": 73,
   "id": "4cd3a3a0-d473-49f6-92b8-c2e56dbb3237",
   "metadata": {},
   "outputs": [
    {
     "data": {
      "image/png": "[encoded data removed]",
      "text/plain": [
       "<Figure size 900x400 with 1 Axes>"
      ]
     },
     "metadata": {},
     "output_type": "display_data"
    },
    {
     "data": {
      "image/png": "[encoded data removed]",
      "text/plain": [
       "<Figure size 900x400 with 1 Axes>"
      ]
     },
     "metadata": {},
     "output_type": "display_data"
    }
   ],
   "source": [
    "#EDA\n",
    "#ויזואליזציות\n",
    "\n",
    "# חישוב אחוז השורדים לפי מחלקה\n",
    "survival_rates = train_df.groupby('Pclass')['Survived'].mean() * 100\n",
    "\n",
    "# יצירת הגרף\n",
    "plt.figure(figsize=(9, 4))\n",
    "plt.bar(survival_rates.index.astype(str), survival_rates.values)\n",
    "plt.xlabel('Pclass')\n",
    "plt.ylabel('Survival rate (%)')\n",
    "plt.title('Survival Rate by Pclass')\n",
    "\n",
    "# הצגת התרשים\n",
    "plt.show()\n",
    "\n",
    "\n",
    "#השוואה בין שורדים ללא שורדים מתחת לגיל 50\n",
    "#חישוב מספר השורדים והלא שורדים\n",
    "under50_number= train_df[train_df['Age']<50]\n",
    "survived_count=under50_number['Survived'].sum()\n",
    "not_survived_count = len(under50_number) - survived_count\n",
    "\n",
    "#נתוני תרשים העוגה\n",
    "labels = ['Survived', 'Not Survived']\n",
    "sizes = [survived_count,not_survived_count]\n",
    "\n",
    "#יצירת תרשים העוגה\n",
    "plt.figure(figsize = (9,4))\n",
    "plt.pie(sizes, labels=labels, autopct='%1.1f%%', startangle=140, colors=['#4CAF50', '#F44336'])\n",
    "plt.title('Survival vs. Non-Survival for Ages Under 50')\n",
    "\n",
    "#הצגת התרשים\n",
    "plt.show()\n"
   ]
  },
  {
   "cell_type": "markdown",
   "id": "fb36672a",
   "metadata": {},
   "source": [
    "## Part 3 - Experiments\n",
    "You could add as many code cells as needed"
   ]
  },
  {
   "cell_type": "code",
   "execution_count": 74,
   "id": "b7098585",
   "metadata": {},
   "outputs": [
    {
     "name": "stdout",
     "output_type": "stream",
     "text": [
      "\n",
      "x train - no scaling:\n",
      "  Pclass  Sex  Age  SibSp  Parch    Fare  Embarked\n",
      "      1    0 54.0      1      0 78.2667         1\n",
      "      2    0 45.0      0      0 13.5000         0\n",
      "      3    1 20.0      0      0  9.5000         0\n",
      "      3    1 36.0      0      0  7.8958         0\n",
      "      3    1 22.0      0      0  8.0500         0\n",
      "\n",
      "x test - no scaling:\n",
      "  Pclass  Sex       Age  SibSp  Parch    Fare  Embarked\n",
      "      3    1 35.000000      0      0  7.0500         0\n",
      "      3    1 30.000000      0      0  7.2500         0\n",
      "      3    1 29.699118      0      0 14.5000         0\n",
      "      3    0 21.000000      0      0  7.7500         2\n",
      "      3    1 32.000000      0      0 56.4958         0\n"
     ]
    }
   ],
   "source": [
    "#הכנה של הנתונים לטובת האימון ללא סילום\n",
    "Features = ['Pclass', 'Sex', 'Age', 'SibSp', 'Parch', 'Fare', 'Embarked']\n",
    "x_noScaling_train = train_df[Features]\n",
    "y_train = train_df['Survived']\n",
    "x_noScaling_test = test_df[Features]\n",
    "y_test = test_df['Survived']\n",
    "\n",
    "#הצגת הנתונים של האימון והבדיקה ללא סילום\n",
    "print(f'\\nx train - no scaling:\\n {x_noScaling_train.head().to_string(index=False)}')\n",
    "print(f'\\nx test - no scaling:\\n {x_noScaling_test.head().to_string(index=False)}')\n"
   ]
  },
  {
   "cell_type": "code",
   "execution_count": 75,
   "id": "097afb02",
   "metadata": {},
   "outputs": [],
   "source": [
    "#הכנת הנתונים עם סילום\n",
    "scaler = StandardScaler()\n",
    "x_scaled_train = scaler.fit_transform(x_noScaling_train)\n",
    "x_scaled_test = scaler.transform(x_noScaling_test)\n"
   ]
  },
  {
   "cell_type": "code",
   "execution_count": 76,
   "id": "1fa9ec73",
   "metadata": {},
   "outputs": [],
   "source": [
    "#לטובת הצגה ברורה יותר\n",
    "#המרה של הנתונים לDataFrame\n",
    "x_scaled_train_df = pd.DataFrame(x_scaled_train, columns=Features)\n",
    "x_scaled_test_df = pd.DataFrame(x_scaled_test, columns=Features)"
   ]
  },
  {
   "cell_type": "code",
   "execution_count": 77,
   "id": "937b653d",
   "metadata": {},
   "outputs": [
    {
     "name": "stdout",
     "output_type": "stream",
     "text": [
      "\n",
      " x train - scaling :    Pclass       Sex       Age     SibSp     Parch      Fare  Embarked\n",
      "-1.447605 -1.273737  1.770811  0.441447 -0.506206  0.832797  1.012840\n",
      "-0.283627 -1.273737  1.117091 -0.544400 -0.506206 -0.409837 -0.571603\n",
      " 0.880350  0.785091 -0.698797 -0.544400 -0.506206 -0.486582 -0.571603\n",
      " 0.880350  0.785091  0.463371 -0.544400 -0.506206 -0.517361 -0.571603\n",
      " 0.880350  0.785091 -0.553526 -0.544400 -0.506206 -0.514402 -0.571603\n",
      "\n",
      " x test - scaling :  Pclass       Sex       Age   SibSp     Parch      Fare  Embarked\n",
      "0.88035  0.785091  0.390736 -0.5444 -0.506206 -0.533589 -0.571603\n",
      "0.88035  0.785091  0.027558 -0.5444 -0.506206 -0.529751 -0.571603\n",
      "0.88035  0.785091  0.005703 -0.5444 -0.506206 -0.390651 -0.571603\n",
      "0.88035 -1.273737 -0.626162 -0.5444 -0.506206 -0.520158  2.597283\n",
      "0.88035  0.785091  0.172829 -0.5444 -0.506206  0.415094 -0.571603\n"
     ]
    }
   ],
   "source": [
    "print(f'\\n x train - scaling : {x_scaled_train_df.head().to_string(index=False)}')\n",
    "print(f'\\n x test - scaling : {x_scaled_test_df.head().to_string(index=False)}')"
   ]
  },
  {
   "cell_type": "code",
   "execution_count": 78,
   "id": "1888da32-7098-403e-94b6-8c3f800a0175",
   "metadata": {},
   "outputs": [],
   "source": [
    "#עץ החלטה\n",
    "#הגדרת פרמטרים\n",
    "decision_tree_param_grid = {'max_depth': [3,5,7,9], 'max_leaf_nodes': [10,20,30,40,50]}\n",
    "\n",
    "#חיפוש איזה פרמטרים הכי טובים לעץ החלטה- עם סילום\n",
    "dt_grid_search_scaled = GridSearchCV(DecisionTreeClassifier(), decision_tree_param_grid, cv=5, scoring='f1_macro')\n",
    "dt_grid_search_scaled.fit(x_scaled_train, y_train)\n",
    "dt_best_scaled = dt_grid_search_scaled.best_estimator_\n",
    "dt_best_params_scaled = dt_grid_search_scaled.best_params_\n",
    "test_preds_dt_scaled = dt_best_scaled.predict(x_scaled_test)\n",
    "\n",
    "#חיפוש איזה פרמטרים הכי טובים לעץ החלטה- ללא סילום\n",
    "dt_grid_search_no_scaling = GridSearchCV(DecisionTreeClassifier(),decision_tree_param_grid, cv=5, scoring='f1_macro')\n",
    "dt_grid_search_no_scaling.fit(x_noScaling_train, y_train)\n",
    "dt_best_no_scaling = dt_grid_search_no_scaling.best_estimator_\n",
    "dt_best_params_no_scaling = dt_grid_search_no_scaling.best_params_\n",
    "test_preds_dt_no_scaling = dt_best_no_scaling.predict(x_noScaling_test)\n"
   ]
  },
  {
   "cell_type": "code",
   "execution_count": 79,
   "id": "0a54a776-757f-4eaf-ac82-075696582c4f",
   "metadata": {},
   "outputs": [],
   "source": [
    "#הגדרת פרמטרים לKNN\n",
    "knn_param_grid = {\n",
    "    'n_neighbors': [3, 5, 7, 9],\n",
    "    'metric': ['euclidean', 'manhattan', 'minkowski']}\n",
    "\n",
    "# חיפוש איזה פרמטרים הכי טובים לKNN - ללא סילום\n",
    "knn_search_noScaling = GridSearchCV(estimator=KNeighborsClassifier(), param_grid=knn_param_grid, cv=5, scoring='f1_macro')\n",
    "knn_search_noScaling.fit(x_noScaling_train, y_train)\n",
    "best_knn_noScaling = knn_search_noScaling.best_estimator_\n",
    "best_knn_params_noScaling = knn_search_noScaling.best_params_\n",
    "predictions_knn_noScaling = best_knn_noScaling.predict(x_noScaling_test)\n",
    "report_knn_noScaling = classification_report(y_test, predictions_knn_noScaling, target_names=['Not Survived', 'Survived'], zero_division=0)\n",
    "\n",
    "# חיפוש איזה פרמטרים הכי טובים לKNN - עם סילום\n",
    "knn_search_scaled = GridSearchCV(estimator=KNeighborsClassifier(),param_grid=knn_param_grid, cv=5, scoring='f1_macro')\n",
    "knn_search_scaled.fit(x_scaled_train, y_train)\n",
    "best_knn_scaled = knn_search_scaled.best_estimator_\n",
    "best_knn_params_scaled = knn_search_scaled.best_params_\n",
    "predictions_knn_scaled = best_knn_scaled.predict(x_scaled_test)\n",
    "report_knn_scaled = classification_report(y_test, predictions_knn_scaled, target_names=['Not Survived', 'Survived'], zero_division=0)"
   ]
  },
  {
   "cell_type": "code",
   "execution_count": 80,
   "id": "fe655561-12f8-40ac-a15f-24077b1e4687",
   "metadata": {},
   "outputs": [],
   "source": [
    "#חישוב הדיוק ודוחות הסיווג עבור עץ ההחלטה וKNN\n",
    "#KNN עם סילום\n",
    "accuracy_test_knn_scaled = accuracy_score(y_test, predictions_knn_scaled)\n",
    "report_test_knn_scaled = classification_report(y_test, predictions_knn_scaled, target_names=['Not Survived', 'Survived'])\n",
    "\n",
    "#KNN ללא סילום\n",
    "accuracy_test_knn_no_scaling = accuracy_score(y_test, predictions_knn_noScaling)\n",
    "report_test_knn_no_scaling = classification_report(y_test,predictions_knn_noScaling,target_names=['Not Survived', 'Survived'])\n",
    "\n",
    "#עץ החלטה עם סילום\n",
    "accuracy_test_dt_scaled = accuracy_score(y_test, test_preds_dt_scaled)\n",
    "report_test_dt_scaled = classification_report(y_test,test_preds_dt_scaled, target_names=['Not Survived', 'Survived'])\n",
    "\n",
    "#עץ החלטה ללא סילום\n",
    "accuracy_test_dt_no_scaling = accuracy_score(y_test, test_preds_dt_no_scaling)\n",
    "report_test_dt_no_scaling = classification_report(y_test, test_preds_dt_no_scaling,target_names=['Not Survived', 'Survived']) "
   ]
  },
  {
   "cell_type": "code",
   "execution_count": 81,
   "id": "213c424f-ae6f-4520-b708-001b47970f73",
   "metadata": {},
   "outputs": [
    {
     "name": "stdout",
     "output_type": "stream",
     "text": [
      "\n",
      " התוצאות של KNN על קבוצת הבדיקה ללא סילום:\n",
      " דיוק : 0.688622754491018\n",
      "              precision    recall  f1-score   support\n",
      "\n",
      "Not Survived       0.76      0.76      0.76       107\n",
      "    Survived       0.57      0.57      0.57        60\n",
      "\n",
      "    accuracy                           0.69       167\n",
      "   macro avg       0.66      0.66      0.66       167\n",
      "weighted avg       0.69      0.69      0.69       167\n",
      "\n",
      "\n",
      "KNN עם סילום - תוצאות על קבוצת הבדיקה:\n",
      " דיוק: 0.8203592814371258\n",
      "              precision    recall  f1-score   support\n",
      "\n",
      "Not Survived       0.86      0.86      0.86       107\n",
      "    Survived       0.75      0.75      0.75        60\n",
      "\n",
      "    accuracy                           0.82       167\n",
      "   macro avg       0.80      0.80      0.80       167\n",
      "weighted avg       0.82      0.82      0.82       167\n",
      "\n",
      "\n",
      "Decision Tree ללא סילום - תוצאות על קבוצת הבדיקה:\n",
      " דיוק: 0.8143712574850299\n",
      "              precision    recall  f1-score   support\n",
      "\n",
      "Not Survived       0.85      0.86      0.86       107\n",
      "    Survived       0.75      0.73      0.74        60\n",
      "\n",
      "    accuracy                           0.81       167\n",
      "   macro avg       0.80      0.80      0.80       167\n",
      "weighted avg       0.81      0.81      0.81       167\n",
      "\n",
      "\n",
      "Decision Tree עם סילום - תוצאות על קבוצת הבדיקה:\n",
      " דיוק: 0.8083832335329342\n",
      "              precision    recall  f1-score   support\n",
      "\n",
      "Not Survived       0.84      0.86      0.85       107\n",
      "    Survived       0.74      0.72      0.73        60\n",
      "\n",
      "    accuracy                           0.81       167\n",
      "   macro avg       0.79      0.79      0.79       167\n",
      "weighted avg       0.81      0.81      0.81       167\n",
      "\n",
      "\n",
      "השוואת התוצאות בין המודלים עם וללא סילום:\n",
      "| Model         | Scaling   |   Accuracy |   F1-Score |\n",
      "|:--------------|:----------|-----------:|-----------:|\n",
      "| KNN           | No        |   0.688623 |   0.661838 |\n",
      "| KNN           | Yes       |   0.820359 |   0.804907 |\n",
      "| Decision Tree | No        |   0.814371 |   0.797655 |\n",
      "| Decision Tree | Yes       |   0.808383 |   0.790333 |\n",
      "\n",
      "הקומבינציות הטובות ביותר של hyperparameters:\n",
      "| Model                    | Best Hyperparameters                      |\n",
      "|:-------------------------|:------------------------------------------|\n",
      "| KNN No Scaling           | {'metric': 'manhattan', 'n_neighbors': 3} |\n",
      "| KNN Scaling              | {'metric': 'manhattan', 'n_neighbors': 7} |\n",
      "| Decision Tree No Scaling | {'max_depth': 7, 'max_leaf_nodes': 10}    |\n",
      "| Decision Tree Scaling    | {'max_depth': 7, 'max_leaf_nodes': 10}    |\n"
     ]
    }
   ],
   "source": [
    "#הצגת תוצאות המודלים\n",
    "print(f'\\n התוצאות של KNN על קבוצת הבדיקה ללא סילום:\\n דיוק : {accuracy_test_knn_no_scaling}')\n",
    "print(report_test_knn_no_scaling)\n",
    "\n",
    "print(f'\\nKNN עם סילום - תוצאות על קבוצת הבדיקה:\\n דיוק: {accuracy_test_knn_scaled}')\n",
    "print(report_test_knn_scaled)\n",
    "\n",
    "print(f'\\nDecision Tree ללא סילום - תוצאות על קבוצת הבדיקה:\\n דיוק: {accuracy_test_dt_no_scaling}')\n",
    "print(report_test_dt_no_scaling)\n",
    "\n",
    "print(f'\\nDecision Tree עם סילום - תוצאות על קבוצת הבדיקה:\\n דיוק: {accuracy_test_dt_scaled}')\n",
    "print(report_test_dt_scaled)\n",
    "\n",
    "# יצירת DataFrame להשוואת התוצאות\n",
    "results = {\n",
    "    'Model': ['KNN', 'KNN', 'Decision Tree', 'Decision Tree'],\n",
    "    'Scaling': ['No', 'Yes', 'No', 'Yes'],\n",
    "    'Accuracy': [\n",
    "        accuracy_test_knn_no_scaling, \n",
    "        accuracy_test_knn_scaled, \n",
    "        accuracy_test_dt_no_scaling, \n",
    "        accuracy_test_dt_scaled\n",
    "    ],\n",
    "    'F1-Score': [\n",
    "        classification_report(y_test, predictions_knn_noScaling, output_dict=True)['macro avg']['f1-score'],\n",
    "        classification_report(y_test, predictions_knn_scaled, output_dict=True)['macro avg']['f1-score'],\n",
    "        classification_report(y_test, test_preds_dt_no_scaling, output_dict=True)['macro avg']['f1-score'],\n",
    "        classification_report(y_test, test_preds_dt_scaled, output_dict=True)['macro avg']['f1-score']\n",
    "    ]\n",
    "}\n",
    "\n",
    "results_df = pd.DataFrame(results)\n",
    "\n",
    "# הצגת הטבלה של תוצאות המודלים בצורה מסודרת\n",
    "print(\"\\nהשוואת התוצאות בין המודלים עם וללא סילום:\")\n",
    "print(results_df.to_markdown(index=False))\n",
    "\n",
    "# יצירת DataFrame להצגת הקומבינציות הטובות ביותר של hyperparameters\n",
    "best_params_results = {\n",
    "    'Model': [\n",
    "        'KNN No Scaling', \n",
    "        'KNN Scaling', \n",
    "        'Decision Tree No Scaling', \n",
    "        'Decision Tree Scaling'\n",
    "    ],\n",
    "    'Best Hyperparameters': [\n",
    "        best_knn_params_noScaling, \n",
    "        best_knn_params_scaled, \n",
    "        dt_best_params_no_scaling, \n",
    "        dt_best_params_scaled\n",
    "    ]\n",
    "}\n",
    "\n",
    "best_params_df = pd.DataFrame(best_params_results)\n",
    "\n",
    "# הצגת הטבלה של הקומבינציות הטובות ביותר של hyperparameters בצורה מסודרת\n",
    "print(\"\\nהקומבינציות הטובות ביותר של hyperparameters:\")\n",
    "print(best_params_df.to_markdown(index=False))\n"
   ]
  },
  {
   "cell_type": "markdown",
   "id": "67d97f11",
   "metadata": {},
   "source": [
    "## Part 4 - Training \n",
    "Use the best combination of feature engineering, model (algorithm and hyperparameters) from the experiment part (part 3)"
   ]
  },
  {
   "cell_type": "code",
   "execution_count": 88,
   "id": "9e1803a9-cce1-4ea8-998f-2f5e397c73e0",
   "metadata": {},
   "outputs": [
    {
     "name": "stdout",
     "output_type": "stream",
     "text": [
      "\n",
      "--- מודל והפרמטרים שנבחרו ---\n",
      "מודל: KNN עם סילום\n",
      "היפר-פרמטרים: {'metric': 'manhattan', 'n_neighbors': 7}\n",
      "------------------------------\n"
     ]
    },
    {
     "ename": "ValueError",
     "evalue": "Found input variables with inconsistent numbers of samples: [167, 632]",
     "output_type": "error",
     "traceback": [
      "\u001b[1;31m---------------------------------------------------------------------------\u001b[0m",
      "\u001b[1;31mValueError\u001b[0m                                Traceback (most recent call last)",
      "Cell \u001b[1;32mIn[88], line 18\u001b[0m\n\u001b[0;32m     12\u001b[0m best_model \u001b[38;5;241m=\u001b[39m KNeighborsClassifier(\n\u001b[0;32m     13\u001b[0m     metric\u001b[38;5;241m=\u001b[39mbest_params[\u001b[38;5;124m'\u001b[39m\u001b[38;5;124mmetric\u001b[39m\u001b[38;5;124m'\u001b[39m],\n\u001b[0;32m     14\u001b[0m     n_neighbors\u001b[38;5;241m=\u001b[39mbest_params[\u001b[38;5;124m'\u001b[39m\u001b[38;5;124mn_neighbors\u001b[39m\u001b[38;5;124m'\u001b[39m]\n\u001b[0;32m     15\u001b[0m )\n\u001b[0;32m     17\u001b[0m \u001b[38;5;66;03m# אימון המודל על נתוני האימון\u001b[39;00m\n\u001b[1;32m---> 18\u001b[0m best_model\u001b[38;5;241m.\u001b[39mfit(x_scaled_test, y_train)\n\u001b[0;32m     20\u001b[0m \u001b[38;5;66;03m# אישור שהמודל אומן בהצלחה\u001b[39;00m\n\u001b[0;32m     21\u001b[0m \u001b[38;5;28mprint\u001b[39m(\u001b[38;5;124m\"\u001b[39m\u001b[38;5;130;01m\\n\u001b[39;00m\u001b[38;5;124m--- אימון המודל הושלם ---\u001b[39m\u001b[38;5;124m\"\u001b[39m)\n",
      "File \u001b[1;32m~\\anaconda3\\Lib\\site-packages\\sklearn\\neighbors\\_classification.py:215\u001b[0m, in \u001b[0;36mKNeighborsClassifier.fit\u001b[1;34m(self, X, y)\u001b[0m\n\u001b[0;32m    196\u001b[0m \u001b[38;5;250m\u001b[39m\u001b[38;5;124;03m\"\"\"Fit the k-nearest neighbors classifier from the training dataset.\u001b[39;00m\n\u001b[0;32m    197\u001b[0m \n\u001b[0;32m    198\u001b[0m \u001b[38;5;124;03mParameters\u001b[39;00m\n\u001b[1;32m   (...)\u001b[0m\n\u001b[0;32m    211\u001b[0m \u001b[38;5;124;03m    The fitted k-nearest neighbors classifier.\u001b[39;00m\n\u001b[0;32m    212\u001b[0m \u001b[38;5;124;03m\"\"\"\u001b[39;00m\n\u001b[0;32m    213\u001b[0m \u001b[38;5;28mself\u001b[39m\u001b[38;5;241m.\u001b[39m_validate_params()\n\u001b[1;32m--> 215\u001b[0m \u001b[38;5;28;01mreturn\u001b[39;00m \u001b[38;5;28mself\u001b[39m\u001b[38;5;241m.\u001b[39m_fit(X, y)\n",
      "File \u001b[1;32m~\\anaconda3\\Lib\\site-packages\\sklearn\\neighbors\\_base.py:454\u001b[0m, in \u001b[0;36mNeighborsBase._fit\u001b[1;34m(self, X, y)\u001b[0m\n\u001b[0;32m    452\u001b[0m \u001b[38;5;28;01mif\u001b[39;00m \u001b[38;5;28mself\u001b[39m\u001b[38;5;241m.\u001b[39m_get_tags()[\u001b[38;5;124m\"\u001b[39m\u001b[38;5;124mrequires_y\u001b[39m\u001b[38;5;124m\"\u001b[39m]:\n\u001b[0;32m    453\u001b[0m     \u001b[38;5;28;01mif\u001b[39;00m \u001b[38;5;129;01mnot\u001b[39;00m \u001b[38;5;28misinstance\u001b[39m(X, (KDTree, BallTree, NeighborsBase)):\n\u001b[1;32m--> 454\u001b[0m         X, y \u001b[38;5;241m=\u001b[39m \u001b[38;5;28mself\u001b[39m\u001b[38;5;241m.\u001b[39m_validate_data(\n\u001b[0;32m    455\u001b[0m             X, y, accept_sparse\u001b[38;5;241m=\u001b[39m\u001b[38;5;124m\"\u001b[39m\u001b[38;5;124mcsr\u001b[39m\u001b[38;5;124m\"\u001b[39m, multi_output\u001b[38;5;241m=\u001b[39m\u001b[38;5;28;01mTrue\u001b[39;00m, order\u001b[38;5;241m=\u001b[39m\u001b[38;5;124m\"\u001b[39m\u001b[38;5;124mC\u001b[39m\u001b[38;5;124m\"\u001b[39m\n\u001b[0;32m    456\u001b[0m         )\n\u001b[0;32m    458\u001b[0m     \u001b[38;5;28;01mif\u001b[39;00m is_classifier(\u001b[38;5;28mself\u001b[39m):\n\u001b[0;32m    459\u001b[0m         \u001b[38;5;66;03m# Classification targets require a specific format\u001b[39;00m\n\u001b[0;32m    460\u001b[0m         \u001b[38;5;28;01mif\u001b[39;00m y\u001b[38;5;241m.\u001b[39mndim \u001b[38;5;241m==\u001b[39m \u001b[38;5;241m1\u001b[39m \u001b[38;5;129;01mor\u001b[39;00m y\u001b[38;5;241m.\u001b[39mndim \u001b[38;5;241m==\u001b[39m \u001b[38;5;241m2\u001b[39m \u001b[38;5;129;01mand\u001b[39;00m y\u001b[38;5;241m.\u001b[39mshape[\u001b[38;5;241m1\u001b[39m] \u001b[38;5;241m==\u001b[39m \u001b[38;5;241m1\u001b[39m:\n",
      "File \u001b[1;32m~\\anaconda3\\Lib\\site-packages\\sklearn\\base.py:584\u001b[0m, in \u001b[0;36mBaseEstimator._validate_data\u001b[1;34m(self, X, y, reset, validate_separately, **check_params)\u001b[0m\n\u001b[0;32m    582\u001b[0m         y \u001b[38;5;241m=\u001b[39m check_array(y, input_name\u001b[38;5;241m=\u001b[39m\u001b[38;5;124m\"\u001b[39m\u001b[38;5;124my\u001b[39m\u001b[38;5;124m\"\u001b[39m, \u001b[38;5;241m*\u001b[39m\u001b[38;5;241m*\u001b[39mcheck_y_params)\n\u001b[0;32m    583\u001b[0m     \u001b[38;5;28;01melse\u001b[39;00m:\n\u001b[1;32m--> 584\u001b[0m         X, y \u001b[38;5;241m=\u001b[39m check_X_y(X, y, \u001b[38;5;241m*\u001b[39m\u001b[38;5;241m*\u001b[39mcheck_params)\n\u001b[0;32m    585\u001b[0m     out \u001b[38;5;241m=\u001b[39m X, y\n\u001b[0;32m    587\u001b[0m \u001b[38;5;28;01mif\u001b[39;00m \u001b[38;5;129;01mnot\u001b[39;00m no_val_X \u001b[38;5;129;01mand\u001b[39;00m check_params\u001b[38;5;241m.\u001b[39mget(\u001b[38;5;124m\"\u001b[39m\u001b[38;5;124mensure_2d\u001b[39m\u001b[38;5;124m\"\u001b[39m, \u001b[38;5;28;01mTrue\u001b[39;00m):\n",
      "File \u001b[1;32m~\\anaconda3\\Lib\\site-packages\\sklearn\\utils\\validation.py:1124\u001b[0m, in \u001b[0;36mcheck_X_y\u001b[1;34m(X, y, accept_sparse, accept_large_sparse, dtype, order, copy, force_all_finite, ensure_2d, allow_nd, multi_output, ensure_min_samples, ensure_min_features, y_numeric, estimator)\u001b[0m\n\u001b[0;32m   1106\u001b[0m X \u001b[38;5;241m=\u001b[39m check_array(\n\u001b[0;32m   1107\u001b[0m     X,\n\u001b[0;32m   1108\u001b[0m     accept_sparse\u001b[38;5;241m=\u001b[39maccept_sparse,\n\u001b[1;32m   (...)\u001b[0m\n\u001b[0;32m   1119\u001b[0m     input_name\u001b[38;5;241m=\u001b[39m\u001b[38;5;124m\"\u001b[39m\u001b[38;5;124mX\u001b[39m\u001b[38;5;124m\"\u001b[39m,\n\u001b[0;32m   1120\u001b[0m )\n\u001b[0;32m   1122\u001b[0m y \u001b[38;5;241m=\u001b[39m _check_y(y, multi_output\u001b[38;5;241m=\u001b[39mmulti_output, y_numeric\u001b[38;5;241m=\u001b[39my_numeric, estimator\u001b[38;5;241m=\u001b[39mestimator)\n\u001b[1;32m-> 1124\u001b[0m check_consistent_length(X, y)\n\u001b[0;32m   1126\u001b[0m \u001b[38;5;28;01mreturn\u001b[39;00m X, y\n",
      "File \u001b[1;32m~\\anaconda3\\Lib\\site-packages\\sklearn\\utils\\validation.py:397\u001b[0m, in \u001b[0;36mcheck_consistent_length\u001b[1;34m(*arrays)\u001b[0m\n\u001b[0;32m    395\u001b[0m uniques \u001b[38;5;241m=\u001b[39m np\u001b[38;5;241m.\u001b[39munique(lengths)\n\u001b[0;32m    396\u001b[0m \u001b[38;5;28;01mif\u001b[39;00m \u001b[38;5;28mlen\u001b[39m(uniques) \u001b[38;5;241m>\u001b[39m \u001b[38;5;241m1\u001b[39m:\n\u001b[1;32m--> 397\u001b[0m     \u001b[38;5;28;01mraise\u001b[39;00m \u001b[38;5;167;01mValueError\u001b[39;00m(\n\u001b[0;32m    398\u001b[0m         \u001b[38;5;124m\"\u001b[39m\u001b[38;5;124mFound input variables with inconsistent numbers of samples: \u001b[39m\u001b[38;5;132;01m%r\u001b[39;00m\u001b[38;5;124m\"\u001b[39m\n\u001b[0;32m    399\u001b[0m         \u001b[38;5;241m%\u001b[39m [\u001b[38;5;28mint\u001b[39m(l) \u001b[38;5;28;01mfor\u001b[39;00m l \u001b[38;5;129;01min\u001b[39;00m lengths]\n\u001b[0;32m    400\u001b[0m     )\n",
      "\u001b[1;31mValueError\u001b[0m: Found input variables with inconsistent numbers of samples: [167, 632]"
     ]
    }
   ],
   "source": [
    "\n",
    "# הגדרת המודל עם הפרמטרים המוצלחים ביותר\n",
    "best_model_name = \"KNN עם סילום\"\n",
    "best_params = {'metric': 'manhattan', 'n_neighbors': 7}\n",
    "\n",
    "# הצגת המידע על הקומבינציה המוצלחת ביותר\n",
    "print(\"\\n--- מודל והפרמטרים שנבחרו ---\")\n",
    "print(f\"מודל: {best_model_name}\")\n",
    "print(f\"היפר-פרמטרים: {best_params}\")\n",
    "print(\"------------------------------\")\n",
    "\n",
    "# יצירת המודל עם ההיפר-פרמטרים שנבחרו\n",
    "best_model = KNeighborsClassifier(\n",
    "    metric=best_params['metric'],\n",
    "    n_neighbors=best_params['n_neighbors']\n",
    ")\n",
    "\n",
    "# אימון המודל על נתוני האימון\n",
    "best_model.fit(x_scaled_test_df, y_train)\n",
    "\n",
    "# אישור שהמודל אומן בהצלחה\n",
    "print(\"\\n--- אימון המודל הושלם ---\")\n",
    "print(\"המודל אומן בהצלחה על נתוני האימון\")\n",
    "print(\"------------------------------\")\n",
    "\n"
   ]
  },
  {
   "cell_type": "markdown",
   "id": "259ab902",
   "metadata": {},
   "source": [
    "## Part 5 - Apply on test and show model performance estimation"
   ]
  },
  {
   "cell_type": "code",
   "execution_count": 86,
   "id": "00d8aa96",
   "metadata": {},
   "outputs": [
    {
     "name": "stdout",
     "output_type": "stream",
     "text": [
      "\n",
      "--- תחזיות ראשונות על קבוצת הבדיקה ---\n",
      "[1 1 1 1 1 1 1 1 1 1]\n",
      "----------------------------------------\n",
      "\n",
      "--- דוח איכות המודל על קבוצת הבדיקה ---\n",
      "              precision  recall  f1-score  support\n",
      "Not Survived   0.000000     0.0  0.000000      107\n",
      "Survived       0.359281     1.0  0.528634       60\n",
      "----------------------------------------\n",
      "\n",
      "--- דיוק המודל על קבוצת הבדיקה ---\n",
      "דיוק: 0.359281\n",
      "----------------------------------------\n"
     ]
    }
   ],
   "source": [
    "\n",
    "# חיזוי על קבוצת הבדיקה עם המודל הנבחר\n",
    "test_predictions = best_model.predict(x_scaled_test_df)\n",
    "\n",
    "# הצגת 10 התחזיות הראשונות על קבוצת הבדיקה\n",
    "print(\"\\n--- תחזיות ראשונות על קבוצת הבדיקה ---\")\n",
    "print(test_predictions[:10])  # הצגת 10 התחזיות הראשונות\n",
    "print(\"----------------------------------------\")\n",
    "\n",
    "# הערכת איכות המודל על קבוצת הבדיקה\n",
    "accuracy_on_test = accuracy_score(y_test, test_predictions)\n",
    "report_dict = classification_report(\n",
    "    y_test, \n",
    "    test_predictions, \n",
    "    target_names=['Not Survived', 'Survived'], \n",
    "    output_dict=True,\n",
    "    zero_division=0  # הגדרת zero_division\n",
    ")\n",
    "report_df = pd.DataFrame(report_dict).transpose()\n",
    "\n",
    "# שמירה על עמודות ה-precision, recall, f1-score, support והדפסה מסודרת\n",
    "report_df = report_df[['precision', 'recall', 'f1-score', 'support']].loc[['Not Survived', 'Survived']]\n",
    "report_df['support'] = report_df['support'].astype(int)  # המרת support לשלמים\n",
    "\n",
    "# הדפסת דוח איכות המודל\n",
    "print(\"\\n--- דוח איכות המודל על קבוצת הבדיקה ---\")\n",
    "print(report_df)\n",
    "print(\"----------------------------------------\")\n",
    "\n",
    "# הצגת הדיוק של המודל על קבוצת הבדיקה\n",
    "print(\"\\n--- דיוק המודל על קבוצת הבדיקה ---\")\n",
    "print(f\"דיוק: {accuracy_on_test:.6f}\")\n",
    "print(\"----------------------------------------\")\n"
   ]
  },
  {
   "cell_type": "code",
   "execution_count": null,
   "id": "313880fc-6499-45b2-94bd-e4859f138794",
   "metadata": {},
   "outputs": [],
   "source": []
  }
 ],
 "metadata": {
  "kernelspec": {
   "display_name": "Python 3 (ipykernel)",
   "language": "python",
   "name": "python3"
  },
  "language_info": {
   "codemirror_mode": {
    "name": "ipython",
    "version": 3
   },
   "file_extension": ".py",
   "mimetype": "text/x-python",
   "name": "python",
   "nbconvert_exporter": "python",
   "pygments_lexer": "ipython3",
   "version": "3.11.7"
  }
 },
 "nbformat": 4,
 "nbformat_minor": 5
}
